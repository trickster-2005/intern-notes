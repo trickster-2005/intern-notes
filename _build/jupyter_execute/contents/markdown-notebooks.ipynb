{
 "cells": [
  {
   "cell_type": "markdown",
   "id": "4d7c6abe",
   "metadata": {},
   "source": [
    "# CSV-Rendering.js\n",
    "\n",
    "\n",
    "```javascript\n",
    "document.addEventListener(\"DOMContentLoaded\", function() {\n",
    "  document.querySelectorAll(\"csv-table\").forEach(el => {\n",
    "    const csvContent = el.textContent.trim();\n",
    "\n",
    "    // CSV 解析，支援雙引號包覆含逗號的欄位\n",
    "    function parseCSV(text) {\n",
    "      const rows = [];\n",
    "      const lines = text.split(\"\\n\");\n",
    "      for (let line of lines) {\n",
    "        const row = [];\n",
    "        let current = \"\";\n",
    "        let inQuotes = false;\n",
    "        for (let i = 0; i < line.length; i++) {\n",
    "          const char = line[i];\n",
    "          if (char === '\"' && (i === 0 || line[i - 1] !== '\\\\')) {\n",
    "            inQuotes = !inQuotes;F\n",
    "          } else if (char === \",\" && !inQuotes) {\n",
    "            row.push(current.trim().replace(/^\"(.*)\"$/,'$1'));\n",
    "            current = \"\";\n",
    "          } else {\n",
    "            current += char;\n",
    "          }\n",
    "        }\n",
    "        row.push(current.trim().replace(/^\"(.*)\"$/,'$1'));\n",
    "        rows.push(row);\n",
    "      }\n",
    "      return rows;\n",
    "    }\n",
    "\n",
    "    const rows = parseCSV(csvContent);\n",
    "    const colHeaders = rows[0];\n",
    "    const htmlRows = rows.map((r, idx) => {\n",
    "      if(idx === 0) return \"<tr>\" + colHeaders.map(c => `<th>${c}</th>`).join(\"\") + \"</tr>\";\n",
    "      while(r.length < colHeaders.length) r.push(\"\");\n",
    "      return \"<tr>\" + r.map(c => `<td>${c}</td>`).join(\"\") + \"</tr>\";\n",
    "    }).join(\"\\n\");\n",
    "\n",
    "    // 建立可滾動容器\n",
    "    const wrapper = document.createElement(\"div\");\n",
    "    wrapper.style.overflowX = \"auto\";  // 水平滾動\n",
    "    wrapper.style.overflowY = \"auto\";  // 垂直滾動\n",
    "    wrapper.style.maxHeight = \"400px\"; // 最大高度，可調整\n",
    "    wrapper.style.marginBottom = \"10px\"; \n",
    "    wrapper.style.width = \"100%\";\n",
    "\n",
    "    const table = document.createElement(\"table\");\n",
    "    table.border = \"1\";\n",
    "    table.style.borderCollapse = \"collapse\";\n",
    "    table.style.width = \"max-content\"; // 寬度依內容延伸\n",
    "    table.style.minWidth = \"100%\";      // 至少撐滿容器\n",
    "    table.style.textAlign = \"left\";\n",
    "    table.innerHTML = htmlRows;\n",
    "\n",
    "    // 限制 table 最大寬度 = 父元素寬度 * 1.5\n",
    "    const parentWidth = el.parentElement ? el.parentElement.offsetWidth : 1000; // fallback\n",
    "    const maxWidth = parentWidth * 2;\n",
    "    table.style.maxWidth = maxWidth + \"px\";\n",
    "\n",
    "    // debug log\n",
    "    console.log(\"📐 parentWidth:\", parentWidth, \"→ table.maxWidth:\", maxWidth);\n",
    "\n",
    "    wrapper.appendChild(table);\n",
    "    el.replaceWith(wrapper);\n",
    "  });\n",
    "});\n",
    "```"
   ]
  }
 ],
 "metadata": {
  "jupytext": {
   "formats": "md:myst",
   "text_representation": {
    "extension": ".md",
    "format_name": "myst",
    "format_version": 0.13,
    "jupytext_version": "1.11.5"
   }
  },
  "kernelspec": {
   "display_name": "Python 3",
   "language": "python",
   "name": "python3"
  },
  "language_info": {
   "codemirror_mode": {
    "name": "ipython",
    "version": 3
   },
   "file_extension": ".py",
   "mimetype": "text/x-python",
   "name": "python",
   "nbconvert_exporter": "python",
   "pygments_lexer": "ipython3",
   "version": "3.13.1"
  },
  "source_map": [
   13
  ]
 },
 "nbformat": 4,
 "nbformat_minor": 5
}